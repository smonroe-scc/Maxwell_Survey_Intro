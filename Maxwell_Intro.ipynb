{
 "cells": [
  {
   "cell_type": "markdown",
   "metadata": {},
   "source": [
    "# Introduction"
   ]
  },
  {
   "cell_type": "markdown",
   "metadata": {},
   "source": [
    "To begin, let's start with the understanding that a \"sufficient level\" of detail would make this lecture extremely long. I will also refer you to online resources in this application note as well.  But ... to reiterate, this is not even remotely intended to be exhaustive or even complete. This is merely a superficial surrvey to make you aware ...  There are entire semester long courses on just this topic.  If you are interested in this stuff the course is typically called \"Electricity and Magnetism\" or just \"E & M\""
   ]
  },
  {
   "cell_type": "markdown",
   "metadata": {},
   "source": [
    "Let's begin with the concept of charge:<br>there are two kinds of chage, they were named by Benjamin Franklin, but we ought to ask? what does \"positive\" and \"negative\" even mean? It seems that these terms might be arbitrary.  What is \"positive\" and what is \"negative\" ... ? Unfortunately, the answer isn't very satisfying: \n",
    "\"it's our choice.\" Benjamin Franklin established a '<i>convention</i>' that a glass rod that has been rubbed with silk is positively charged.  And that's it. Any other object that repels a glass rod is also positively charged. Any object that attracts is negatively charged.  Therefore a plastic rod rubbed with wool is negative.  "
   ]
  },
  {
   "cell_type": "markdown",
   "metadata": {},
   "source": [
    "It took a while following Franklin to discover protons and electrons. But once that discovery was made, along with the observation that electrons are attracted to a glass rod while protons were repelled. From this a so-called <i>convention</i> was created which defined electrons as negative, and protons as positive."
   ]
  },
  {
   "cell_type": "markdown",
   "metadata": {},
   "source": [
    "Ya know ... this is a problem: it would have been much more convenient if Franklin had made the opposite choice since it is the electron which is the carrier of electric current in metal conductors. That convention of assigning negative to the electron is going to make problems later. "
   ]
  },
  {
   "cell_type": "markdown",
   "metadata": {},
   "source": [
    "# Charge"
   ]
  },
  {
   "cell_type": "markdown",
   "metadata": {},
   "source": [
    "The law of the conservation of charge: \"charge is neither created nor destroyed. It can be transferred from one object to another but the total amount (of charge) remains constant\"<br><br> The motion of charge through a material is called <b>current</b>. Charges that physically move are called <b>charge carriers.</b> "
   ]
  },
  {
   "cell_type": "markdown",
   "metadata": {},
   "source": [
    "## An observation"
   ]
  },
  {
   "cell_type": "markdown",
   "metadata": {},
   "source": [
    "Electric force increases for objects with more charge, and decreases as charge is removed<br><br>\n",
    "Electric force increases for objects which are closer together, and decreases when they are moved farther apart."
   ]
  },
  {
   "cell_type": "markdown",
   "metadata": {},
   "source": [
    "Charles Coulomb discovered The following relationship for electic force:"
   ]
  },
  {
   "cell_type": "markdown",
   "metadata": {},
   "source": [
    "Begin with charge $q_1$ and $q_2$ separated by a distance $r$.  Therefore the force between them is:"
   ]
  },
  {
   "cell_type": "markdown",
   "metadata": {},
   "source": [
    "$$\\vec{F_{1 \\rightarrow 2}}=\\vec{F_{2 \\rightarrow 1}}= K \\cdot \\frac{q_1 \\cdot q_2}{r^2}$$"
   ]
  },
  {
   "cell_type": "markdown",
   "metadata": {},
   "source": [
    "Where K is the <b>electrostatic constant</b> The arrows above the Force variables indicate vectors showing the presence of both magnitude and direction.  Forces are an action/reaction pair equal in magnitude, opposite in direction. Additionally forces are directed along a line joining the two charges. Forces are <b>repulsive</b> for like charges, and <b>attractive</b> for opposite charges."
   ]
  },
  {
   "cell_type": "markdown",
   "metadata": {},
   "source": [
    "NB!  It is important to keep in mind that the particles we are discussing are objects with mass, size, and so on. Charge is a quality of matter.  It doesn't exist apart from matter. "
   ]
  },
  {
   "cell_type": "markdown",
   "metadata": {},
   "source": [
    "When Coulomb ran his experiements and discovered the above relationship, he knew he needed some kind of \"scaling constant\" and that is what $K$ is. But at the time Coulomb had no units for charge so he was unable to determine the actual value of $K$.  If you look at the above equation and do the dimensional analysis the numerator is going to have units $C^2$ and the denominator $m^2$ but the units of Force are $N$. That means that for the left side of the equqtion the units of $K$ have to be $$\\frac{N \\cdot m^2}{C^2}$$ which results in the following relationship $$\\frac{N \\cdot m^2}{C^2} \\cdot \\frac{C^2}{m^2}=N$$"
   ]
  },
  {
   "cell_type": "markdown",
   "metadata": {},
   "source": [
    "Coulomb knew this much but had no unit with which to measure charge. "
   ]
  },
  {
   "cell_type": "markdown",
   "metadata": {},
   "source": [
    "You will note that Coulomb's law looks awfully similar to Newton's law of universal gravitation:\n",
    "$$\\vec{F_{m1 \\rightarrow m2}}=\\vec{F_{m2 \\rightarrow m1}}= G \\cdot \\frac{m_1 \\cdot m_2}{d^2}$$  "
   ]
  },
  {
   "cell_type": "markdown",
   "metadata": {},
   "source": [
    "Newton's constant of proportionality, $G$ and Coulombs constant of proportionality, $K$ both serve the same function though obviously have different values. "
   ]
  },
  {
   "cell_type": "markdown",
   "metadata": {},
   "source": [
    "There is a lot to say about $K$, but for now, let's just define its value and units:<br><br>\n",
    "$$K=8.99 \\times 10^9 \\frac{N \\cdot m^2}{C^2}$$"
   ]
  },
  {
   "cell_type": "markdown",
   "metadata": {},
   "source": [
    "Coulomb's Law actually has a lot of limited use but we have discussed it here because it's a good way to introduce the concept of force as it relates to charge.  The limits of Coulomb's law strictly speaking are that<br><br> 1) Coulomb's law applies only to point charge(s)<br>\n",
    "2) Coulomb's law applies only to electrostatics<br>"
   ]
  },
  {
   "cell_type": "markdown",
   "metadata": {},
   "source": [
    "One other characteristic that relates to Coulomb's law, but also force in general is that electric forces like other forces can be superpositioned ... i.e., we can calculate net electric force for multiple point charges."
   ]
  },
  {
   "cell_type": "markdown",
   "metadata": {},
   "source": [
    "## Fields"
   ]
  },
  {
   "cell_type": "markdown",
   "metadata": {},
   "source": [
    "I was unable to find the first person to come up with the concept of a field as it relates to electricity and magnetism.  Although this person may exist in history, the furthest back in time I was able to go was the 19th century and the person that keeps coming up over and over is Michael Faraday.  Faraday would sprinkle iorn filings onto a piece of paper, then place a bar magnet into this enviornment.  The pattern that Faraday observed is very familiar.  The pattern produced was regular, repeatable, and predictable. It seemed to Faraday that there was something going on with the actual space around the magnet. It's important to recall that Faraday wasn't functioning in a bubble, isolated from the already existing culture of Newtonian Mechanics. "
   ]
  },
  {
   "cell_type": "markdown",
   "metadata": {},
   "source": [
    "And so Newtonian mechanics, along with Faraday's idea became known as a <b>field</b>, which takes its name from mathematics which describes a function $f(x, y, z)$ that assigns a value to every point in space.  In other words, a charge creates a field around it which alters the space around it at every point.  From physics we know that a mass creates an alteration of space called a gravitational field.  In like fashion charge alters the space around it to create an electric field. "
   ]
  },
  {
   "cell_type": "markdown",
   "metadata": {},
   "source": [
    "We can mathematically represent electric field like this:\n",
    "$$ \\vec{E}(x,y,z) \\equiv \\frac{\\vec{F}}{q}$$"
   ]
  },
  {
   "cell_type": "markdown",
   "metadata": {},
   "source": [
    "Now if you do the dimensional analysis, it's $$\\frac{N}{C}$$"
   ]
  },
  {
   "cell_type": "markdown",
   "metadata": {},
   "source": [
    "The magnitude of $\\vec{E}$ is therefore called <b>electric field strength</b>."
   ]
  },
  {
   "cell_type": "markdown",
   "metadata": {},
   "source": [
    "A few points:<br><br>\n",
    "1) The relationship shown above assigns a vector to every point in space. This means that the electric field is a vector field.  That is, at every point in space, not only is there force magnitude, but also directionality.<br>\n",
    "2) If $q$ is positive the electric field vector points in the same direction as the force on the charge<br>\n",
    "3) A positive charge will have a vector field radiating out and away from the charge like the spokes of a wagon wheel<br>\n",
    "4) A negative charge will have a vector field radiating in and toward the charge like the spokes of a wagon wheel<br>"
   ]
  },
  {
   "cell_type": "markdown",
   "metadata": {},
   "source": [
    "Let's do an example and use the following relationship to calculate electric field ...<br><br>\n",
    "Here's the setup: <br>\n",
    "We have a charge of -3nC (i.e., 1 nanocoulomb)\n",
    "We want to measure the electric field strength at certain points away from the charge.  For the sake of simplicity, lets create an x/y plot and place the charge at the origin (0,0).<br><br>\n",
    "We want to measure at (1,0), (0,1), and (1,1).  Let's make our units mm. We will use the relationship,<br><br>\n",
    "$$\\vec{E}=K \\cdot \\frac{q}{r^2}$$\n",
    "Let's call the point at (1,0) $E_1$, the point at (0,1) $E_2$, and the point at (1,1), $E_3$"
   ]
  },
  {
   "cell_type": "code",
   "execution_count": 1,
   "metadata": {
    "scrolled": true
   },
   "outputs": [
    {
     "name": "stdout",
     "output_type": "stream",
     "text": [
      "Force at E1: -26970000.0 N\n",
      "Force at E2: -26970000.0 N\n",
      "Force at E3: -13484999.999999994 N\n"
     ]
    }
   ],
   "source": [
    "from numpy import sqrt\n",
    "K=8.99E9\n",
    "q=-3.0E-9\n",
    "r=0.001\n",
    "E1=K*(q/r**2)\n",
    "E2=K*(q/r**2)\n",
    "r3=sqrt(2)*r\n",
    "E3=K*(q/r3**2)\n",
    "print(\"Force at E1:\",E1,\"N\")\n",
    "print(\"Force at E2:\",E2,\"N\")\n",
    "print(\"Force at E3:\",E3,\"N\")"
   ]
  },
  {
   "cell_type": "markdown",
   "metadata": {},
   "source": [
    "Note that the sign is negative, this means that the force lines converge inward toward the negative charge."
   ]
  },
  {
   "cell_type": "markdown",
   "metadata": {},
   "source": [
    "## Four Principles of Operation"
   ]
  },
  {
   "cell_type": "markdown",
   "metadata": {},
   "source": [
    "We can now formulate our first relationship, which unfortunately Coulomb didn't get named after him, because Coulomb's law only worked for point charges which have no mass.  But of course electrons have mass.  Johann Carl Friedrich Gauss took what Coulomb had worked on but made it work for particles with mass (like electrons).  He wrote: $$\\oint \\vec{E} \\cdot dA = \\frac{Q_{in}}{\\epsilon_0}$$"
   ]
  },
  {
   "cell_type": "markdown",
   "metadata": {},
   "source": [
    "Which is really beyond the scope of an electronics course in AC. It's important what the mathematical terms mean but whats really important is the English language translation is:<br><br>\n",
    "<b>Charged particles create an electric field</b>"
   ]
  },
  {
   "cell_type": "markdown",
   "metadata": {},
   "source": [
    "While he was at it he also wrote:<br><br>\n",
    "    \n",
    "  $$\\oint \\vec{B} \\cdot dA=0$$  "
   ]
  },
  {
   "cell_type": "markdown",
   "metadata": {},
   "source": [
    "The $\\vec{B}$ stands for a magnetic vector field."
   ]
  },
  {
   "cell_type": "markdown",
   "metadata": {},
   "source": [
    "The English language translation is <br><br>\n",
    "<b> There are no magnetic monopoles</b>"
   ]
  },
  {
   "cell_type": "markdown",
   "metadata": {},
   "source": [
    "Recall, previously I wrote above about Faraday and his experiments with iron filings and magnets and the pattern they created.  Faraday also did an experiment in 1831, where he had two coils of wire wrapped around an iron ring. Each coil of wire was insulated, and was wrapped on opposite sides of the ring.<br><br> \n",
    "See <a href=\"https://archive.org/details/physicsprinciple00gian/page/623/mode/2up/\">this link</a> \n",
    "<br><br> Specifically figure 21-1.\n",
    "What Faraday anticipated would happen and what ended up happening were two separate things.  Faraday was hoping that the magnetic field generated in the coil on the left would induce a magnetic field in the coil on the right and generate current. But it didn't work. <br><br>\n",
    "What Faraday <b>did</b> notice was that everytime he closed the switch, the needle would move a slight amount. But after that initial changing of state from open to closed the needle would return to zero.  Then, the needle would move again when he opened the switch but in the opposite direction ... then return to zero. <br><br>\n",
    "Faraday concluded that only if the magnetic field was changing was current induced.   And that, was the insight: previously in all the failed experiments, he had been using steady-state magnetic fields. Change is the thing.\n",
    "If you look at the previous link at figure 21-2, you will see that Faraday tested his hypothesis by taking a bar magnet and passed it through a coil of wire.  Current!"
   ]
  },
  {
   "cell_type": "markdown",
   "metadata": {},
   "source": [
    "To summarise Faradays findings which became known as Faraday's law:<br><br>\n",
    "<b>There is current in a coil of wire iff (if and only if) the magnetic field passing through the coil is changing</b>"
   ]
  },
  {
   "cell_type": "markdown",
   "metadata": {},
   "source": [
    "This is an informal statement of Faradays Law which Oliver Heaviside wrote mathematically:\n",
    "    $$\\oint \\vec{E} \\cdot d\\vec{s} = -\\frac{d\\Phi_m}{dt}$$"
   ]
  },
  {
   "cell_type": "markdown",
   "metadata": {},
   "source": [
    "which also translates to <b>An electric field can be created by a changing magnetic field</b>"
   ]
  },
  {
   "cell_type": "markdown",
   "metadata": {},
   "source": [
    "The last equation is the one we care about the most, although all of them are important.  In total it looks like this: $$\\oint \\vec{B} \\cdot d\\vec{s}=\\mu_0 \\cdot I + \\epsilon_0 \\cdot \\mu_0 \\cdot \\frac{d\\Phi_E}{dt}$$"
   ]
  },
  {
   "cell_type": "markdown",
   "metadata": {},
   "source": [
    "The first part, $$\\mu_0 \\cdot I$$ translates to <b>Currents create a magnetic field</b>.<br><br>  The second part $$\\epsilon_0 \\cdot \\mu_0 \\cdot \\frac{d\\Phi_E}{dt}$$<br><br> translates to <b>A magnetic field can also be created by a changing electric field</b>"
   ]
  },
  {
   "cell_type": "markdown",
   "metadata": {},
   "source": [
    "And so we now have the four <b>Maxwell equations</b> which describe how electromagnetic signals behave:<br><br>\n",
    "<b>\n",
    "1) Charged particles create an electric field<br>\n",
    "2) There are no magnetic monopoles<br>\n",
    "3) There is current in a coil of wire iff (if and only if) the magnetic field passing through the coil is changing AND An electric field can be created by a changing magnetic field<br>\n",
    "4) Currents create a magnetic field and a magnetic field can also be created by a changing electric field\n",
    "</b>"
   ]
  },
  {
   "cell_type": "markdown",
   "metadata": {},
   "source": [
    "The expressions as I have indicated them are all in what is known as <b>integral form</b>"
   ]
  },
  {
   "cell_type": "markdown",
   "metadata": {},
   "source": [
    "There are alterntive, versions which mean the exact same thing(s) expressed in what is known as <b>differential form</b>.  In order:<br>\n",
    "$$\\nabla \\cdot D=\\rho$$<br><br>\n",
    "$$\\nabla \\cdot B=0$$<br><br>\n",
    "$$\\nabla \\times E=-\\frac{\\partial B}{\\partial t}$$<br><br>\n",
    "$$\\nabla \\times H= \\frac{\\partial D}{\\partial t}+J$$"
   ]
  },
  {
   "cell_type": "markdown",
   "metadata": {},
   "source": [
    "Actually these so-called \"Maxwell Equations\" which are well presented, and compact mathematically weren't when Maxwell wrote his original Treatise.  It was Oliver Heaviside who cleaned up Maxwell's work.\n",
    "\n",
    "Follow  <a href=\"https://spectrum.ieee.org/tech-history/dawn-of-electronics/the-long-road-to-maxwells-equations/\">this link</a> for more on James Clerk Maxwell and the work that he did as well as Oliver Heaviside and his involvement in cleaning up Maxwell's mess."
   ]
  },
  {
   "cell_type": "code",
   "execution_count": null,
   "metadata": {},
   "outputs": [],
   "source": []
  }
 ],
 "metadata": {
  "kernelspec": {
   "display_name": "Python 3",
   "language": "python",
   "name": "python3"
  },
  "language_info": {
   "codemirror_mode": {
    "name": "ipython",
    "version": 3
   },
   "file_extension": ".py",
   "mimetype": "text/x-python",
   "name": "python",
   "nbconvert_exporter": "python",
   "pygments_lexer": "ipython3",
   "version": "3.7.4"
  }
 },
 "nbformat": 4,
 "nbformat_minor": 2
}
